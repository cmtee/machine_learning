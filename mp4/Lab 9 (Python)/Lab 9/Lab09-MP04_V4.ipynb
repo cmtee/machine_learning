{
 "cells": [
  {
   "cell_type": "code",
   "execution_count": 1,
   "metadata": {
    "tags": []
   },
   "outputs": [],
   "source": [
    "# Importing necessary libraries from scikit-learn for Support Vector Machine (SVM) classification\n",
    "from sklearn.svm import SVC\n",
    "from sklearn.model_selection import train_test_split, KFold\n",
    "from sklearn.preprocessing import StandardScaler\n",
    "from sklearn import metrics\n",
    "\n",
    "# Importing essential libraries for data manipulation and visualization\n",
    "import numpy as np\n",
    "import pandas as pd\n",
    "import matplotlib.pyplot as plt\n",
    "\n",
    "# Importing datasets module from scikit-learn for access to built-in datasets\n",
    "from sklearn import datasets"
   ]
  },
  {
   "cell_type": "markdown",
   "metadata": {},
   "source": [
    "# Lab 9: Mini Project 4 \n",
    "\n",
    "## Introduction\n",
    "\n",
    "In mini-project 4, you'll be working with data related to voting and work to determine if having flexible work hours associated with being more likely to vote."
   ]
  },
  {
   "cell_type": "markdown",
   "metadata": {},
   "source": [
    "## Today's Lab: Support Vector Machines\n",
    "\n",
    "Today's lab will use two datasets:\n",
    "\n",
    "\n",
    "- The scikit-learn 'iris' dataset (for classfiying iris flowers) and\n",
    "#BOOMER^\n",
    "- The voting and work dataset you'll be using in your assignment\n",
    "\n",
    "## Support Vector Machines in Classficiation\n",
    "- Goal of SVM is the find the *largest margin between the two classes*, where the margin is defined as the distance between the plane dividing the space and the nearest data point from either class. \n",
    "- The *nearest points* are called support vectors, as they support the position and orientation of the plane.\n",
    "- SVMs can handle linearly separable and non-linearly separable data (using kernel tricks).\n",
    "\n",
    "## Support Vectors for Regression (SVR)\n",
    "- In regression tasks, known as Support Vector Regression (SVR), the goal is to find a function that deviates from the actual observed outputs by a value no greater than a specified margin. It tries to include as many data points as possible within the margin while minimizing the error on those points.\n",
    "\n",
    "## Benefits of SVM\n",
    "\n",
    "- Maximizing the margin helps to improve the model's generalization to unseen data. By finding the decision boundary that is as far as possible from any data point of either class, the SVM aims to reduce the model's capacity to overfit to the training data. This leads to better performance on new, unseen data."
   ]
  },
  {
   "cell_type": "markdown",
   "metadata": {},
   "source": [
    "Helper Function to Plot Results of SVM Classification Task"
   ]
  },
  {
   "cell_type": "code",
   "execution_count": 2,
   "metadata": {
    "tags": []
   },
   "outputs": [],
   "source": [
    "def plot_svm(model, X, y, x_label=None, y_label=None):\n",
    "    \"\"\"\n",
    "    Function plot_svm generates a visualization of SVM classification results. \n",
    "    \n",
    "    Inputs: \n",
    "        SVM model model, input features X, target labels y, and optional x and y axis labels. \n",
    "    Outputs:\n",
    "        The function calculates the plot boundaries based on the input data and creates a meshgrid for plotting. \n",
    "        It then predicts the model output for each point in the meshgrid and visualizes the decision boundaries and data points using matplotlib.\n",
    "    \"\"\"\n",
    "    \n",
    "    # Define the boundaries of the plot based on the data\n",
    "    x_min, x_max = X[:, 0].min() - 1, X[:, 0].max() + 1\n",
    "    y_min, y_max = X[:, 1].min() - 1, X[:, 1].max() + 1\n",
    "\n",
    "    # Create a meshgrid for the plot\n",
    "    xx, yy = np.meshgrid(np.arange(x_min, x_max, .02), np.arange(y_min, y_max, .02))\n",
    "\n",
    "    # Predict the model output for each point in the meshgrid\n",
    "    Z = model.predict(np.c_[xx.ravel(), yy.ravel()]).reshape(xx.shape)\n",
    "\n",
    "    # Plotting the figure using fig, ax approach\n",
    "    fig, ax = plt.subplots(figsize=(10,10))\n",
    "    #BOOMER^\n",
    "    ax.contourf(xx, yy, Z, cmap=plt.cm.coolwarm, alpha=0.8)  # Plot decision boundaries\n",
    "    ax.scatter(X[:, 0], X[:, 1], c=y, cmap=plt.cm.coolwarm, s=30, edgecolors='k')  # Plot data points\n",
    "    ax.set_xlabel(x_label, fontsize=16)  # Set x-axis label\n",
    "    ax.set_ylabel(y_label, fontsize=16)  # Set y-axis label\n",
    "\n",
    "    plt.show()"
   ]
  },
  {
   "cell_type": "markdown",
   "metadata": {},
   "source": [
    "## Section 1"
   ]
  },
  {
   "cell_type": "code",
   "execution_count": 3,
   "metadata": {
    "tags": []
   },
   "outputs": [
    {
     "name": "stdout",
     "output_type": "stream",
     "text": [
      "   sepal length (cm)  sepal width (cm)  petal length (cm)  petal width (cm)\n",
      "0                5.1               3.5                1.4               0.2\n",
      "1                4.9               3.0                1.4               0.2\n",
      "2                4.7               3.2                1.3               0.2\n",
      "3                4.6               3.1                1.5               0.2\n",
      "4                5.0               3.6                1.4               0.2\n",
      "   target\n",
      "0       0\n",
      "1       0\n",
      "2       0\n",
      "3       0\n",
      "4       0\n",
      "['setosa' 'versicolor' 'virginica']\n",
      "[0 1 2]\n"
     ]
    }
   ],
   "source": [
    "# Importing the Iris dataset from scikit-learn for demonstration\n",
    "iris = datasets.load_iris()\n",
    "\n",
    "# By converting the Iris dataset into a pandas DataFrame and then using describe(), you can obtain a statistical summary of the dataset.\n",
    "iris_data_df = pd.DataFrame(data=iris.data, columns=iris.feature_names)\n",
    "iris_target_df = pd.DataFrame(data=iris.target, columns=['target'])\n",
    "\n",
    "# Display the description of the Iris dataset\n",
    "print(iris_data_df.head())\n",
    "print(iris_target_df.head())\n",
    "print(iris.target_names)\n",
    "print(np.unique(iris.target))"
   ]
  },
  {
   "cell_type": "code",
   "execution_count": 4,
   "metadata": {
    "tags": []
   },
   "outputs": [],
   "source": [
    "# Taking only Versicolor and Virginica class. \n",
    "# Note the classical support vector machine classifies between 2 categories \n",
    "versicolor_idx = np.where(iris.target == 1)[0]\n",
    "virginica_idx = np.where(iris.target == 2)[0]\n",
    "selected_idx = np.concatenate([versicolor_idx, virginica_idx])\n",
    "X = iris.data[selected_idx, :2] # Selecting the first two features for the selected classes\n",
    "y = iris.target[selected_idx] # Assigning the target labels for the selected classes"
   ]
  },
  {
   "cell_type": "code",
   "execution_count": 5,
   "metadata": {
    "tags": []
   },
   "outputs": [],
   "source": [
    "# Split and standardize\n",
    "X_train, X_test, y_train, y_test = train_test_split(X, y, test_size = 0.5, random_state=2) # Splitting the data\n",
    "scaler = StandardScaler()\n",
    "scaler.fit(X_train) # Fitting the scaler on the training data\n",
    "Xs_train = scaler.transform(X_train) # Standardizing the training features\n",
    "Xs_test = scaler.transform(X_test) # Standardizing the testing features"
   ]
  },
  {
   "cell_type": "markdown",
   "metadata": {},
   "source": [
    "The hyperparameter 'C' in Support Vector Machines (SVM) plays a crucial role in balancing the training error and the margin width of the decision boundary. Here's a summary of how the hyperparameter 'C' works based on the search results:\n",
    "\n",
    "- **Significance of 'C':** The parameter 'C' in SVM helps control the trade-off between training error and margin width. It determines the penalty for misclassifications during training, impacting generalization performance and the risk of overfitting or underfitting.\n",
    "  \n",
    "- **Effect of 'C' Value:**\n",
    "  - **Small 'C' Value:** \n",
    "    - More lenient about making mistakes. Prefers *simplicity* over *accuracy*\n",
    "    - A smaller 'C' value allows for a larger margin, potentially leading to more misclassifications on the training data. This can be beneficial when data points are well-separated but may lead to underfitting if set too small.\n",
    "  \n",
    "  - **Large 'C' Value:** \n",
    "      - Strict about making mistakes. Prefers *accuracy* over *simplicity*\n",
    "      - Larger 'C' value emphasizes minimizing training error, resulting in a narrower margin. This is useful when data points are not well-separated or when noise is present, but setting it too large can increase the risk of overfitting.\n",
    "\n",
    "Note: we set a Kernal Parameter in the model to *linear*, SVM can make use of something called Kernals to model in higher dimensions to make data linearly separable."
   ]
  },
  {
   "cell_type": "code",
   "execution_count": 6,
   "metadata": {
    "tags": []
   },
   "outputs": [
    {
     "data": {
      "image/png": "[encoded data removed]",
      "text/plain": [
       "<Figure size 1000x1000 with 1 Axes>"
      ]
     },
     "metadata": {},
     "output_type": "display_data"
    }
   ],
   "source": [
    "# Setting the hyperparameter C to 0.1 for the Support Vector Machine model with a linear kernel.\n",
    "model = SVC(C=0.1, kernel='linear').fit(Xs_train, y_train)  # Fitting the SVM model\n",
    "\n",
    "# Visualizing the SVM classification results on the training data.\n",
    "plot_svm(model, Xs_train, y_train, 'Sepal Length', 'Sepal Width')  # Plotting the SVM decision boundaries"
   ]
  },
  {
   "cell_type": "code",
   "execution_count": 7,
   "metadata": {
    "tags": []
   },
   "outputs": [
    {
     "name": "stdout",
     "output_type": "stream",
     "text": [
      "0.24\n"
     ]
    }
   ],
   "source": [
    "# Calculating and printing the misclassification error on the training set.\n",
    "misclassification_error = 1 - model.score(Xs_train, y_train)\n",
    "print(misclassification_error)"
   ]
  },
  {
   "cell_type": "code",
   "execution_count": 8,
   "metadata": {
    "tags": []
   },
   "outputs": [
    {
     "data": {
      "image/png": "[encoded data removed]",
      "text/plain": [
       "<Figure size 1000x1000 with 1 Axes>"
      ]
     },
     "metadata": {},
     "output_type": "display_data"
    }
   ],
   "source": [
    "# Predicting the target labels for the test set using the trained SVM model.\n",
    "y_test_pred = model.predict(Xs_test)\n",
    "\n",
    "# Visualizing the SVM classification results on the test data.\n",
    "plot_svm(model, Xs_test, y_test, 'Sepal Length', 'Sepal Width')"
   ]
  },
  {
   "cell_type": "code",
   "execution_count": 9,
   "metadata": {
    "tags": []
   },
   "outputs": [
    {
     "name": "stdout",
     "output_type": "stream",
     "text": [
      "0.33999999999999997\n"
     ]
    }
   ],
   "source": [
    "# Calculating and printing the misclassification error on the test set.\n",
    "misclassification_error_test = 1 - metrics.accuracy_score(y_test, y_test_pred)\n",
    "print(misclassification_error_test)"
   ]
  },
  {
   "cell_type": "code",
   "execution_count": 10,
   "metadata": {
    "tags": []
   },
   "outputs": [
    {
     "data": {
      "image/png": "[encoded data removed]",
      "text/plain": [
       "<Figure size 1000x1000 with 1 Axes>"
      ]
     },
     "metadata": {},
     "output_type": "display_data"
    }
   ],
   "source": [
    "# Setting the hyperparameter C to 10 for the Support Vector Machine model with a linear kernel.\n",
    "model = SVC(C=10, kernel='linear').fit(Xs_train, y_train)  # Fitting the SVM model\n",
    "\n",
    "# Visualizing the SVM classification results on the training data with C=10.\n",
    "plot_svm(model, Xs_train, y_train, 'Sepal Length', 'Sepal Width')  # Plotting the SVM decision boundaries"
   ]
  },
  {
   "cell_type": "code",
   "execution_count": 11,
   "metadata": {
    "tags": []
   },
   "outputs": [
    {
     "name": "stdout",
     "output_type": "stream",
     "text": [
      "0.24\n"
     ]
    }
   ],
   "source": [
    "# Calculating and printing the misclassification error on the training set with C=10.\n",
    "misclassification_error_C10 = 1 - model.score(Xs_train, y_train)\n",
    "print(misclassification_error_C10)"
   ]
  },
  {
   "cell_type": "code",
   "execution_count": 12,
   "metadata": {
    "tags": []
   },
   "outputs": [
    {
     "data": {
      "image/png": "[encoded data removed]",
      "text/plain": [
       "<Figure size 1000x1000 with 1 Axes>"
      ]
     },
     "metadata": {},
     "output_type": "display_data"
    }
   ],
   "source": [
    "# Predicting the target labels for the test set using the SVM model with C=10.\n",
    "y_test_pred = model.predict(Xs_test)\n",
    "\n",
    "# Visualizing the SVM classification results on the test data with C=10.\n",
    "plot_svm(model, Xs_test, y_test, 'Sepal Length', 'Sepal Width')"
   ]
  },
  {
   "cell_type": "code",
   "execution_count": 13,
   "metadata": {
    "tags": []
   },
   "outputs": [
    {
     "name": "stdout",
     "output_type": "stream",
     "text": [
      "0.28\n"
     ]
    }
   ],
   "source": [
    "# Calculating and printing the misclassification error on the test set with C=10.\n",
    "misclassification_error_test_C10 = 1 - metrics.accuracy_score(y_test, y_test_pred)\n",
    "print(misclassification_error_test_C10)"
   ]
  },
  {
   "cell_type": "markdown",
   "metadata": {},
   "source": [
    "## Section 2"
   ]
  },
  {
   "cell_type": "code",
   "execution_count": 14,
   "metadata": {},
   "outputs": [],
   "source": [
    "# import data\n",
    "vote_df = pd.read_csv(\"vote.csv\")\n",
    "work_df = pd.read_csv(\"work.csv\")"
   ]
  },
  {
   "cell_type": "code",
   "execution_count": 15,
   "metadata": {},
   "outputs": [
    {
     "data": {
      "text/html": [
       "<div>\n",
       "<style scoped>\n",
       "    .dataframe tbody tr th:only-of-type {\n",
       "        vertical-align: middle;\n",
       "    }\n",
       "\n",
       "    .dataframe tbody tr th {\n",
       "        vertical-align: top;\n",
       "    }\n",
       "\n",
       "    .dataframe thead th {\n",
       "        text-align: right;\n",
       "    }\n",
       "</style>\n",
       "<table border=\"1\" class=\"dataframe\">\n",
       "  <thead>\n",
       "    <tr style=\"text-align: right;\">\n",
       "      <th></th>\n",
       "      <th>prtage</th>\n",
       "      <th>pesex</th>\n",
       "      <th>ptdtrace</th>\n",
       "      <th>pehspnon</th>\n",
       "      <th>prcitshp</th>\n",
       "      <th>peeduca</th>\n",
       "      <th>work</th>\n",
       "    </tr>\n",
       "  </thead>\n",
       "  <tbody>\n",
       "    <tr>\n",
       "      <th>0</th>\n",
       "      <td>35</td>\n",
       "      <td>MALE</td>\n",
       "      <td>White Only</td>\n",
       "      <td>NON-HISPANIC</td>\n",
       "      <td>NATIVE, BORN IN THE UNITED</td>\n",
       "      <td>HIGH SCHOOL GRAD-DIPLOMA OR</td>\n",
       "      <td>flexible</td>\n",
       "    </tr>\n",
       "    <tr>\n",
       "      <th>1</th>\n",
       "      <td>41</td>\n",
       "      <td>MALE</td>\n",
       "      <td>White Only</td>\n",
       "      <td>NON-HISPANIC</td>\n",
       "      <td>NATIVE, BORN IN THE UNITED</td>\n",
       "      <td>HIGH SCHOOL GRAD-DIPLOMA OR</td>\n",
       "      <td>flexible</td>\n",
       "    </tr>\n",
       "    <tr>\n",
       "      <th>2</th>\n",
       "      <td>53</td>\n",
       "      <td>MALE</td>\n",
       "      <td>White Only</td>\n",
       "      <td>NON-HISPANIC</td>\n",
       "      <td>NATIVE, BORN IN THE UNITED</td>\n",
       "      <td>BACHELOR'S DEGREE</td>\n",
       "      <td>not flexible</td>\n",
       "    </tr>\n",
       "    <tr>\n",
       "      <th>3</th>\n",
       "      <td>21</td>\n",
       "      <td>FEMALE</td>\n",
       "      <td>White Only</td>\n",
       "      <td>NON-HISPANIC</td>\n",
       "      <td>NATIVE, BORN IN THE UNITED</td>\n",
       "      <td>SOME COLLEGE BUT NO DEGREE</td>\n",
       "      <td>flexible</td>\n",
       "    </tr>\n",
       "    <tr>\n",
       "      <th>4</th>\n",
       "      <td>45</td>\n",
       "      <td>FEMALE</td>\n",
       "      <td>Black Only</td>\n",
       "      <td>NON-HISPANIC</td>\n",
       "      <td>NATIVE, BORN IN THE UNITED</td>\n",
       "      <td>SOME COLLEGE BUT NO DEGREE</td>\n",
       "      <td>flexible</td>\n",
       "    </tr>\n",
       "  </tbody>\n",
       "</table>\n",
       "</div>"
      ],
      "text/plain": [
       "   prtage   pesex    ptdtrace      pehspnon                    prcitshp  \\\n",
       "0      35    MALE  White Only  NON-HISPANIC  NATIVE, BORN IN THE UNITED   \n",
       "1      41    MALE  White Only  NON-HISPANIC  NATIVE, BORN IN THE UNITED   \n",
       "2      53    MALE  White Only  NON-HISPANIC  NATIVE, BORN IN THE UNITED   \n",
       "3      21  FEMALE  White Only  NON-HISPANIC  NATIVE, BORN IN THE UNITED   \n",
       "4      45  FEMALE  Black Only  NON-HISPANIC  NATIVE, BORN IN THE UNITED   \n",
       "\n",
       "                       peeduca          work  \n",
       "0  HIGH SCHOOL GRAD-DIPLOMA OR      flexible  \n",
       "1  HIGH SCHOOL GRAD-DIPLOMA OR      flexible  \n",
       "2            BACHELOR'S DEGREE  not flexible  \n",
       "3   SOME COLLEGE BUT NO DEGREE      flexible  \n",
       "4   SOME COLLEGE BUT NO DEGREE      flexible  "
      ]
     },
     "execution_count": 15,
     "metadata": {},
     "output_type": "execute_result"
    }
   ],
   "source": [
    "work_df.head()"
   ]
  },
  {
   "cell_type": "code",
   "execution_count": 16,
   "metadata": {},
   "outputs": [
    {
     "data": {
      "text/html": [
       "<div>\n",
       "<style scoped>\n",
       "    .dataframe tbody tr th:only-of-type {\n",
       "        vertical-align: middle;\n",
       "    }\n",
       "\n",
       "    .dataframe tbody tr th {\n",
       "        vertical-align: top;\n",
       "    }\n",
       "\n",
       "    .dataframe thead th {\n",
       "        text-align: right;\n",
       "    }\n",
       "</style>\n",
       "<table border=\"1\" class=\"dataframe\">\n",
       "  <thead>\n",
       "    <tr style=\"text-align: right;\">\n",
       "      <th></th>\n",
       "      <th>prtage</th>\n",
       "      <th>pesex</th>\n",
       "      <th>ptdtrace</th>\n",
       "      <th>pehspnon</th>\n",
       "      <th>prcitshp</th>\n",
       "      <th>peeduca</th>\n",
       "      <th>vote</th>\n",
       "    </tr>\n",
       "  </thead>\n",
       "  <tbody>\n",
       "    <tr>\n",
       "      <th>0</th>\n",
       "      <td>19</td>\n",
       "      <td>FEMALE</td>\n",
       "      <td>White Only</td>\n",
       "      <td>NON-HISPANIC</td>\n",
       "      <td>NATIVE, BORN IN THE UNITED</td>\n",
       "      <td>SOME COLLEGE BUT NO DEGREE</td>\n",
       "      <td>vote</td>\n",
       "    </tr>\n",
       "    <tr>\n",
       "      <th>1</th>\n",
       "      <td>35</td>\n",
       "      <td>MALE</td>\n",
       "      <td>White Only</td>\n",
       "      <td>NON-HISPANIC</td>\n",
       "      <td>NATIVE, BORN IN THE UNITED</td>\n",
       "      <td>MASTER'S DEGREE (EX: MA, MS,</td>\n",
       "      <td>vote</td>\n",
       "    </tr>\n",
       "    <tr>\n",
       "      <th>2</th>\n",
       "      <td>48</td>\n",
       "      <td>MALE</td>\n",
       "      <td>White Only</td>\n",
       "      <td>HISPANIC</td>\n",
       "      <td>FOREIGN BORN, U.S. CITIZEN BY</td>\n",
       "      <td>5TH OR 6TH GRADE</td>\n",
       "      <td>vote</td>\n",
       "    </tr>\n",
       "    <tr>\n",
       "      <th>3</th>\n",
       "      <td>55</td>\n",
       "      <td>MALE</td>\n",
       "      <td>White Only</td>\n",
       "      <td>NON-HISPANIC</td>\n",
       "      <td>NATIVE, BORN IN THE UNITED</td>\n",
       "      <td>BACHELOR'S DEGREE</td>\n",
       "      <td>did not vote</td>\n",
       "    </tr>\n",
       "    <tr>\n",
       "      <th>4</th>\n",
       "      <td>25</td>\n",
       "      <td>FEMALE</td>\n",
       "      <td>White Only</td>\n",
       "      <td>NON-HISPANIC</td>\n",
       "      <td>NATIVE, BORN IN THE UNITED</td>\n",
       "      <td>SOME COLLEGE BUT NO DEGREE</td>\n",
       "      <td>vote</td>\n",
       "    </tr>\n",
       "  </tbody>\n",
       "</table>\n",
       "</div>"
      ],
      "text/plain": [
       "   prtage   pesex    ptdtrace      pehspnon                       prcitshp  \\\n",
       "0      19  FEMALE  White Only  NON-HISPANIC     NATIVE, BORN IN THE UNITED   \n",
       "1      35    MALE  White Only  NON-HISPANIC     NATIVE, BORN IN THE UNITED   \n",
       "2      48    MALE  White Only      HISPANIC  FOREIGN BORN, U.S. CITIZEN BY   \n",
       "3      55    MALE  White Only  NON-HISPANIC     NATIVE, BORN IN THE UNITED   \n",
       "4      25  FEMALE  White Only  NON-HISPANIC     NATIVE, BORN IN THE UNITED   \n",
       "\n",
       "                        peeduca          vote  \n",
       "0    SOME COLLEGE BUT NO DEGREE          vote  \n",
       "1  MASTER'S DEGREE (EX: MA, MS,          vote  \n",
       "2              5TH OR 6TH GRADE          vote  \n",
       "3             BACHELOR'S DEGREE  did not vote  \n",
       "4    SOME COLLEGE BUT NO DEGREE          vote  "
      ]
     },
     "execution_count": 16,
     "metadata": {},
     "output_type": "execute_result"
    }
   ],
   "source": [
    "vote_df.head()"
   ]
  },
  {
   "cell_type": "code",
   "execution_count": 17,
   "metadata": {},
   "outputs": [],
   "source": [
    "# Map labels to 0 and 1\n",
    "work_mapper = {'flexible': 1, \"not flexible\": 0}\n",
    "vote_mapper = {'vote': 1, \"did not vote\": 0}"
   ]
  },
  {
   "cell_type": "code",
   "execution_count": 18,
   "metadata": {},
   "outputs": [],
   "source": [
    "work_df['work'] = work_df['work'].replace(work_mapper)\n",
    "vote_df['vote'] = vote_df['vote'].replace(vote_mapper)"
   ]
  },
  {
   "cell_type": "code",
   "execution_count": 19,
   "metadata": {},
   "outputs": [
    {
     "data": {
      "text/html": [
       "<div>\n",
       "<style scoped>\n",
       "    .dataframe tbody tr th:only-of-type {\n",
       "        vertical-align: middle;\n",
       "    }\n",
       "\n",
       "    .dataframe tbody tr th {\n",
       "        vertical-align: top;\n",
       "    }\n",
       "\n",
       "    .dataframe thead th {\n",
       "        text-align: right;\n",
       "    }\n",
       "</style>\n",
       "<table border=\"1\" class=\"dataframe\">\n",
       "  <thead>\n",
       "    <tr style=\"text-align: right;\">\n",
       "      <th></th>\n",
       "      <th>prtage</th>\n",
       "      <th>pesex</th>\n",
       "      <th>ptdtrace</th>\n",
       "      <th>pehspnon</th>\n",
       "      <th>prcitshp</th>\n",
       "      <th>peeduca</th>\n",
       "      <th>work</th>\n",
       "    </tr>\n",
       "  </thead>\n",
       "  <tbody>\n",
       "    <tr>\n",
       "      <th>0</th>\n",
       "      <td>35</td>\n",
       "      <td>MALE</td>\n",
       "      <td>White Only</td>\n",
       "      <td>NON-HISPANIC</td>\n",
       "      <td>NATIVE, BORN IN THE UNITED</td>\n",
       "      <td>HIGH SCHOOL GRAD-DIPLOMA OR</td>\n",
       "      <td>1</td>\n",
       "    </tr>\n",
       "    <tr>\n",
       "      <th>1</th>\n",
       "      <td>41</td>\n",
       "      <td>MALE</td>\n",
       "      <td>White Only</td>\n",
       "      <td>NON-HISPANIC</td>\n",
       "      <td>NATIVE, BORN IN THE UNITED</td>\n",
       "      <td>HIGH SCHOOL GRAD-DIPLOMA OR</td>\n",
       "      <td>1</td>\n",
       "    </tr>\n",
       "    <tr>\n",
       "      <th>2</th>\n",
       "      <td>53</td>\n",
       "      <td>MALE</td>\n",
       "      <td>White Only</td>\n",
       "      <td>NON-HISPANIC</td>\n",
       "      <td>NATIVE, BORN IN THE UNITED</td>\n",
       "      <td>BACHELOR'S DEGREE</td>\n",
       "      <td>0</td>\n",
       "    </tr>\n",
       "    <tr>\n",
       "      <th>3</th>\n",
       "      <td>21</td>\n",
       "      <td>FEMALE</td>\n",
       "      <td>White Only</td>\n",
       "      <td>NON-HISPANIC</td>\n",
       "      <td>NATIVE, BORN IN THE UNITED</td>\n",
       "      <td>SOME COLLEGE BUT NO DEGREE</td>\n",
       "      <td>1</td>\n",
       "    </tr>\n",
       "    <tr>\n",
       "      <th>4</th>\n",
       "      <td>45</td>\n",
       "      <td>FEMALE</td>\n",
       "      <td>Black Only</td>\n",
       "      <td>NON-HISPANIC</td>\n",
       "      <td>NATIVE, BORN IN THE UNITED</td>\n",
       "      <td>SOME COLLEGE BUT NO DEGREE</td>\n",
       "      <td>1</td>\n",
       "    </tr>\n",
       "  </tbody>\n",
       "</table>\n",
       "</div>"
      ],
      "text/plain": [
       "   prtage   pesex    ptdtrace      pehspnon                    prcitshp  \\\n",
       "0      35    MALE  White Only  NON-HISPANIC  NATIVE, BORN IN THE UNITED   \n",
       "1      41    MALE  White Only  NON-HISPANIC  NATIVE, BORN IN THE UNITED   \n",
       "2      53    MALE  White Only  NON-HISPANIC  NATIVE, BORN IN THE UNITED   \n",
       "3      21  FEMALE  White Only  NON-HISPANIC  NATIVE, BORN IN THE UNITED   \n",
       "4      45  FEMALE  Black Only  NON-HISPANIC  NATIVE, BORN IN THE UNITED   \n",
       "\n",
       "                       peeduca  work  \n",
       "0  HIGH SCHOOL GRAD-DIPLOMA OR     1  \n",
       "1  HIGH SCHOOL GRAD-DIPLOMA OR     1  \n",
       "2            BACHELOR'S DEGREE     0  \n",
       "3   SOME COLLEGE BUT NO DEGREE     1  \n",
       "4   SOME COLLEGE BUT NO DEGREE     1  "
      ]
     },
     "execution_count": 19,
     "metadata": {},
     "output_type": "execute_result"
    }
   ],
   "source": [
    "work_df.head()"
   ]
  },
  {
   "cell_type": "code",
   "execution_count": 20,
   "metadata": {},
   "outputs": [
    {
     "data": {
      "text/html": [
       "<div>\n",
       "<style scoped>\n",
       "    .dataframe tbody tr th:only-of-type {\n",
       "        vertical-align: middle;\n",
       "    }\n",
       "\n",
       "    .dataframe tbody tr th {\n",
       "        vertical-align: top;\n",
       "    }\n",
       "\n",
       "    .dataframe thead th {\n",
       "        text-align: right;\n",
       "    }\n",
       "</style>\n",
       "<table border=\"1\" class=\"dataframe\">\n",
       "  <thead>\n",
       "    <tr style=\"text-align: right;\">\n",
       "      <th></th>\n",
       "      <th>prtage</th>\n",
       "      <th>pesex</th>\n",
       "      <th>ptdtrace</th>\n",
       "      <th>pehspnon</th>\n",
       "      <th>prcitshp</th>\n",
       "      <th>peeduca</th>\n",
       "      <th>vote</th>\n",
       "    </tr>\n",
       "  </thead>\n",
       "  <tbody>\n",
       "    <tr>\n",
       "      <th>0</th>\n",
       "      <td>19</td>\n",
       "      <td>FEMALE</td>\n",
       "      <td>White Only</td>\n",
       "      <td>NON-HISPANIC</td>\n",
       "      <td>NATIVE, BORN IN THE UNITED</td>\n",
       "      <td>SOME COLLEGE BUT NO DEGREE</td>\n",
       "      <td>1</td>\n",
       "    </tr>\n",
       "    <tr>\n",
       "      <th>1</th>\n",
       "      <td>35</td>\n",
       "      <td>MALE</td>\n",
       "      <td>White Only</td>\n",
       "      <td>NON-HISPANIC</td>\n",
       "      <td>NATIVE, BORN IN THE UNITED</td>\n",
       "      <td>MASTER'S DEGREE (EX: MA, MS,</td>\n",
       "      <td>1</td>\n",
       "    </tr>\n",
       "    <tr>\n",
       "      <th>2</th>\n",
       "      <td>48</td>\n",
       "      <td>MALE</td>\n",
       "      <td>White Only</td>\n",
       "      <td>HISPANIC</td>\n",
       "      <td>FOREIGN BORN, U.S. CITIZEN BY</td>\n",
       "      <td>5TH OR 6TH GRADE</td>\n",
       "      <td>1</td>\n",
       "    </tr>\n",
       "    <tr>\n",
       "      <th>3</th>\n",
       "      <td>55</td>\n",
       "      <td>MALE</td>\n",
       "      <td>White Only</td>\n",
       "      <td>NON-HISPANIC</td>\n",
       "      <td>NATIVE, BORN IN THE UNITED</td>\n",
       "      <td>BACHELOR'S DEGREE</td>\n",
       "      <td>0</td>\n",
       "    </tr>\n",
       "    <tr>\n",
       "      <th>4</th>\n",
       "      <td>25</td>\n",
       "      <td>FEMALE</td>\n",
       "      <td>White Only</td>\n",
       "      <td>NON-HISPANIC</td>\n",
       "      <td>NATIVE, BORN IN THE UNITED</td>\n",
       "      <td>SOME COLLEGE BUT NO DEGREE</td>\n",
       "      <td>1</td>\n",
       "    </tr>\n",
       "  </tbody>\n",
       "</table>\n",
       "</div>"
      ],
      "text/plain": [
       "   prtage   pesex    ptdtrace      pehspnon                       prcitshp  \\\n",
       "0      19  FEMALE  White Only  NON-HISPANIC     NATIVE, BORN IN THE UNITED   \n",
       "1      35    MALE  White Only  NON-HISPANIC     NATIVE, BORN IN THE UNITED   \n",
       "2      48    MALE  White Only      HISPANIC  FOREIGN BORN, U.S. CITIZEN BY   \n",
       "3      55    MALE  White Only  NON-HISPANIC     NATIVE, BORN IN THE UNITED   \n",
       "4      25  FEMALE  White Only  NON-HISPANIC     NATIVE, BORN IN THE UNITED   \n",
       "\n",
       "                        peeduca  vote  \n",
       "0    SOME COLLEGE BUT NO DEGREE     1  \n",
       "1  MASTER'S DEGREE (EX: MA, MS,     1  \n",
       "2              5TH OR 6TH GRADE     1  \n",
       "3             BACHELOR'S DEGREE     0  \n",
       "4    SOME COLLEGE BUT NO DEGREE     1  "
      ]
     },
     "execution_count": 20,
     "metadata": {},
     "output_type": "execute_result"
    }
   ],
   "source": [
    "vote_df.head()"
   ]
  },
  {
   "cell_type": "markdown",
   "metadata": {},
   "source": [
    "When using the Support Vector Classifier (SVC), it is important to note that the function does not inherently handle multicollinearity or automatically drop one dummy variable like Ordinary Least Squares (OLS) regression does. Here is an elaboration on this concept:\n",
    "\n",
    "- **Multicollinearity:** Multicollinearity occurs when independent variables in a model are highly correlated with each other. In the context of SVC, multicollinearity can affect the model's performance and interpretation of feature importance. Unlike OLS regression, which can handle multicollinearity to some extent, SVC does not have built-in mechanisms to address this issue.\n",
    "\n",
    "- **Dummy Variables:** When dealing with categorical variables in machine learning models like SVC, it is common practice to convert them into dummy variables for model compatibility. By default, `pd.get_dummies()` in pandas creates dummy variables for all categories in a categorical feature. However, setting `drop_first=True` allows dropping the first category, which helps avoid multicollinearity issues and aligns with how OLS regression automatically handles dummy variables.\n",
    "\n",
    "- **Drop First Dummy:** Dropping the first dummy variable when creating dummy variables is crucial to prevent multicollinearity and ensure model stability. This practice is particularly important in models like SVC where multicollinearity can impact the decision boundaries and overall performance.\n",
    "\n",
    "By setting `drop_first=True` in `pd.get_dummies()`, you ensure that only $k-1$ dummy variables are created for a categorical feature with $k$ categories, effectively handling multicollinearity issues and aligning with the approach commonly used in OLS regression. This adjustment helps maintain model integrity and improves the interpretability of the results when using SVC with categorical features."
   ]
  },
  {
   "cell_type": "code",
   "execution_count": 21,
   "metadata": {},
   "outputs": [
    {
     "name": "stdout",
     "output_type": "stream",
     "text": [
      "['NATIVE, BORN IN THE UNITED' 'FOREIGN BORN, U.S. CITIZEN BY'\n",
      " 'FOREIGN BORN, NOT A CITIZEN OF' 'NATIVE, BORN IN PUERTO RICO OR'\n",
      " 'NATIVE, BORN ABROAD OF']\n"
     ]
    },
    {
     "data": {
      "text/plain": [
       "Index(['prtage', 'pesex', 'ptdtrace', 'pehspnon', 'peeduca', 'work',\n",
       "       'prcitshp_FOREIGN BORN, NOT A CITIZEN OF',\n",
       "       'prcitshp_NATIVE, BORN ABROAD OF',\n",
       "       'prcitshp_NATIVE, BORN IN PUERTO RICO OR',\n",
       "       'prcitshp_NATIVE, BORN IN THE UNITED'],\n",
       "      dtype='object')"
      ]
     },
     "execution_count": 21,
     "metadata": {},
     "output_type": "execute_result"
    }
   ],
   "source": [
    "# Converting the 'citizenship' categories in the 'work_df' DataFrame to dummy variables and checking the output.\n",
    "print(work_df['prcitshp'].unique())\n",
    "work_df = pd.get_dummies(work_df, columns=['prcitshp'], drop_first=False)  # Convert 'prcitshp' categories to dummies with drop_first=True\n",
    "work_df = work_df.drop(columns=['prcitshp_FOREIGN BORN, U.S. CITIZEN BY'])\n",
    "work_df.columns  # Displaying the columns of the updated DataFrame"
   ]
  },
  {
   "cell_type": "code",
   "execution_count": 22,
   "metadata": {},
   "outputs": [
    {
     "name": "stdout",
     "output_type": "stream",
     "text": [
      "['NATIVE, BORN IN THE UNITED' 'FOREIGN BORN, U.S. CITIZEN BY'\n",
      " 'NATIVE, BORN IN PUERTO RICO OR' 'NATIVE, BORN ABROAD OF']\n"
     ]
    },
    {
     "data": {
      "text/plain": [
       "Index(['prtage', 'pesex', 'ptdtrace', 'pehspnon', 'peeduca', 'vote',\n",
       "       'prcitshp_NATIVE, BORN ABROAD OF',\n",
       "       'prcitshp_NATIVE, BORN IN PUERTO RICO OR',\n",
       "       'prcitshp_NATIVE, BORN IN THE UNITED'],\n",
       "      dtype='object')"
      ]
     },
     "execution_count": 22,
     "metadata": {},
     "output_type": "execute_result"
    }
   ],
   "source": [
    "# Converting the 'citizenship' categories in the 'vote_df' DataFrame to dummy variables and checking the output.\n",
    "print(vote_df['prcitshp'].unique())\n",
    "vote_df = pd.get_dummies(vote_df, columns=['prcitshp'], drop_first=False)  # Convert 'prcitshp' categories to dummies\n",
    "vote_df = vote_df.drop(columns=['prcitshp_FOREIGN BORN, U.S. CITIZEN BY'])\n",
    "vote_df.columns  # Displaying the columns of the updated DataFrame"
   ]
  },
  {
   "cell_type": "code",
   "execution_count": 23,
   "metadata": {},
   "outputs": [
    {
     "data": {
      "text/plain": [
       "Index(['prtage', 'pesex', 'ptdtrace', 'pehspnon', 'peeduca', 'vote',\n",
       "       'prcitshp_NATIVE, BORN ABROAD OF',\n",
       "       'prcitshp_NATIVE, BORN IN PUERTO RICO OR',\n",
       "       'prcitshp_NATIVE, BORN IN THE UNITED',\n",
       "       'prcitshp_FOREIGN BORN, NOT A CITIZEN OF'],\n",
       "      dtype='object')"
      ]
     },
     "execution_count": 23,
     "metadata": {},
     "output_type": "execute_result"
    }
   ],
   "source": [
    "# Add column of zeros to vote_df since it has one less category in citizenship\n",
    "# To match with work dataset\n",
    "# (In the US you must be a citizen to vote, if they're in the voting dataset they must be a citizen)\n",
    "vote_df[\"prcitshp_FOREIGN BORN, NOT A CITIZEN OF\"] = 0\n",
    "#BOOMER^\n",
    "vote_df.columns "
   ]
  },
  {
   "cell_type": "code",
   "execution_count": 24,
   "metadata": {},
   "outputs": [
    {
     "name": "stdout",
     "output_type": "stream",
     "text": [
      "10\n",
      "10\n"
     ]
    }
   ],
   "source": [
    "# Check if both are now same\n",
    "print(len(work_df.columns))\n",
    "print(len(vote_df.columns))"
   ]
  },
  {
   "cell_type": "code",
   "execution_count": 25,
   "metadata": {},
   "outputs": [
    {
     "name": "stdout",
     "output_type": "stream",
     "text": [
      "['White Only' 'Black Only' 'White-AI' 'Black-AI' 'Asian Only'\n",
      " 'White-Asian' 'Hawaiian/Pacific Islander Only' 'Asian-HP'\n",
      " 'White-Hawaiian' 'American Indian, Alaskan' 'White-Black' '2 or 3 Races'\n",
      " '4 or 5 Races']\n",
      "['White Only' 'Black Only' 'Hawaiian/Pacific Islander Only' 'Asian Only'\n",
      " 'American Indian, Alaskan' 'White-AI' 'Black-AI' 'W-B-AI' '2 or 3 Races'\n",
      " 'White-Asian' 'Asian-HP' 'White-Black' 'White-Hawaiian' 'W-A-HP'\n",
      " 'Black-Asian']\n"
     ]
    }
   ],
   "source": [
    "print(work_df.ptdtrace.unique())\n",
    "print(vote_df.ptdtrace.unique())"
   ]
  },
  {
   "cell_type": "code",
   "execution_count": 26,
   "metadata": {},
   "outputs": [
    {
     "name": "stdout",
     "output_type": "stream",
     "text": [
      "21\n",
      "Index(['prtage', 'pesex', 'pehspnon', 'peeduca', 'work',\n",
      "       'prcitshp_FOREIGN BORN, NOT A CITIZEN OF',\n",
      "       'prcitshp_NATIVE, BORN ABROAD OF',\n",
      "       'prcitshp_NATIVE, BORN IN PUERTO RICO OR',\n",
      "       'prcitshp_NATIVE, BORN IN THE UNITED', 'ptdtrace_4 or 5 Races',\n",
      "       'ptdtrace_American Indian, Alaskan', 'ptdtrace_Asian Only',\n",
      "       'ptdtrace_Asian-HP', 'ptdtrace_Black Only', 'ptdtrace_Black-AI',\n",
      "       'ptdtrace_Hawaiian/Pacific Islander Only', 'ptdtrace_White Only',\n",
      "       'ptdtrace_White-AI', 'ptdtrace_White-Asian', 'ptdtrace_White-Black',\n",
      "       'ptdtrace_White-Hawaiian'],\n",
      "      dtype='object')\n",
      "23\n",
      "Index(['prtage', 'pesex', 'pehspnon', 'peeduca', 'vote',\n",
      "       'prcitshp_NATIVE, BORN ABROAD OF',\n",
      "       'prcitshp_NATIVE, BORN IN PUERTO RICO OR',\n",
      "       'prcitshp_NATIVE, BORN IN THE UNITED',\n",
      "       'prcitshp_FOREIGN BORN, NOT A CITIZEN OF',\n",
      "       'ptdtrace_American Indian, Alaskan', 'ptdtrace_Asian Only',\n",
      "       'ptdtrace_Asian-HP', 'ptdtrace_Black Only', 'ptdtrace_Black-AI',\n",
      "       'ptdtrace_Black-Asian', 'ptdtrace_Hawaiian/Pacific Islander Only',\n",
      "       'ptdtrace_W-A-HP', 'ptdtrace_W-B-AI', 'ptdtrace_White Only',\n",
      "       'ptdtrace_White-AI', 'ptdtrace_White-Asian', 'ptdtrace_White-Black',\n",
      "       'ptdtrace_White-Hawaiian'],\n",
      "      dtype='object')\n",
      "Columns in work_df but missing in vote_df: {'work', 'ptdtrace_4 or 5 Races'}\n",
      "Columns in vote_df but missing in work_df: {'ptdtrace_W-B-AI', 'ptdtrace_W-A-HP', 'ptdtrace_Black-Asian', 'vote'}\n"
     ]
    }
   ],
   "source": [
    "# recode race\n",
    "work_df = pd.get_dummies(work_df, columns=['ptdtrace'], drop_first=True)\n",
    "vote_df = pd.get_dummies(vote_df, columns=['ptdtrace'], drop_first=True)\n",
    "print(len(work_df.columns))\n",
    "print(work_df.columns)\n",
    "print(len(vote_df.columns))\n",
    "print(vote_df.columns)\n",
    "## Add missing columns to match structure \n",
    "work_cols = set(work_df.columns)\n",
    "vote_cols = set(vote_df.columns)  \n",
    "missing_in_vote = work_cols - vote_cols\n",
    "missing_in_work = vote_cols - work_cols\n",
    "print(\"Columns in work_df but missing in vote_df:\", missing_in_vote)\n",
    "print(\"Columns in vote_df but missing in work_df:\", missing_in_work)\n",
    "vote_df['4 or 5 Races'] = 0\n",
    "work_df['W-B-AI'] = 0\n",
    "work_df['W-A-HP'] = 0\n",
    "work_df['Black-Asian'] = 0"
   ]
  },
  {
   "cell_type": "code",
   "execution_count": 27,
   "metadata": {},
   "outputs": [],
   "source": [
    "# For remaining columns\n",
    "work_df = pd.get_dummies(work_df, columns=['pesex'], drop_first=True)\n",
    "vote_df = pd.get_dummies(vote_df, columns=['pesex'], drop_first=True)\n",
    "work_df = pd.get_dummies(work_df, columns=['pehspnon'], drop_first=True)\n",
    "vote_df = pd.get_dummies(vote_df, columns=['pehspnon'], drop_first=True)\n",
    "work_df = pd.get_dummies(work_df, columns=['peeduca'], drop_first=True)\n",
    "vote_df = pd.get_dummies(vote_df, columns=['peeduca'], drop_first=True)"
   ]
  },
  {
   "cell_type": "code",
   "execution_count": 28,
   "metadata": {},
   "outputs": [
    {
     "name": "stdout",
     "output_type": "stream",
     "text": [
      "38\n",
      "Index(['prtage', 'work', 'prcitshp_FOREIGN BORN, NOT A CITIZEN OF',\n",
      "       'prcitshp_NATIVE, BORN ABROAD OF',\n",
      "       'prcitshp_NATIVE, BORN IN PUERTO RICO OR',\n",
      "       'prcitshp_NATIVE, BORN IN THE UNITED', 'ptdtrace_4 or 5 Races',\n",
      "       'ptdtrace_American Indian, Alaskan', 'ptdtrace_Asian Only',\n",
      "       'ptdtrace_Asian-HP', 'ptdtrace_Black Only', 'ptdtrace_Black-AI',\n",
      "       'ptdtrace_Hawaiian/Pacific Islander Only', 'ptdtrace_White Only',\n",
      "       'ptdtrace_White-AI', 'ptdtrace_White-Asian', 'ptdtrace_White-Black',\n",
      "       'ptdtrace_White-Hawaiian', 'W-B-AI', 'W-A-HP', 'Black-Asian',\n",
      "       'pesex_MALE', 'pehspnon_NON-HISPANIC', 'peeduca_11TH GRADE',\n",
      "       'peeduca_12TH GRADE NO DIPLOMA', 'peeduca_1ST, 2ND, 3RD OR 4TH GRADE',\n",
      "       'peeduca_5TH OR 6TH GRADE', 'peeduca_7TH OR 8TH GRADE',\n",
      "       'peeduca_9TH GRADE', 'peeduca_ASSOCIATE DEGREE-ACADEMIC',\n",
      "       'peeduca_ASSOCIATE DEGREE-OCCUPATIONAL/', 'peeduca_BACHELOR'S DEGREE',\n",
      "       'peeduca_DOCTORATE DEGREE', 'peeduca_HIGH SCHOOL GRAD-DIPLOMA OR',\n",
      "       'peeduca_LESS THAN 1ST GRADE', 'peeduca_MASTER'S DEGREE (EX: MA, MS,',\n",
      "       'peeduca_PROFESSIONAL SCHOOL DEG',\n",
      "       'peeduca_SOME COLLEGE BUT NO DEGREE'],\n",
      "      dtype='object')\n",
      "38\n",
      "Index(['prtage', 'vote', 'prcitshp_NATIVE, BORN ABROAD OF',\n",
      "       'prcitshp_NATIVE, BORN IN PUERTO RICO OR',\n",
      "       'prcitshp_NATIVE, BORN IN THE UNITED',\n",
      "       'prcitshp_FOREIGN BORN, NOT A CITIZEN OF',\n",
      "       'ptdtrace_American Indian, Alaskan', 'ptdtrace_Asian Only',\n",
      "       'ptdtrace_Asian-HP', 'ptdtrace_Black Only', 'ptdtrace_Black-AI',\n",
      "       'ptdtrace_Black-Asian', 'ptdtrace_Hawaiian/Pacific Islander Only',\n",
      "       'ptdtrace_W-A-HP', 'ptdtrace_W-B-AI', 'ptdtrace_White Only',\n",
      "       'ptdtrace_White-AI', 'ptdtrace_White-Asian', 'ptdtrace_White-Black',\n",
      "       'ptdtrace_White-Hawaiian', '4 or 5 Races', 'pesex_MALE',\n",
      "       'pehspnon_NON-HISPANIC', 'peeduca_11TH GRADE',\n",
      "       'peeduca_12TH GRADE NO DIPLOMA', 'peeduca_1ST, 2ND, 3RD OR 4TH GRADE',\n",
      "       'peeduca_5TH OR 6TH GRADE', 'peeduca_7TH OR 8TH GRADE',\n",
      "       'peeduca_9TH GRADE', 'peeduca_ASSOCIATE DEGREE-ACADEMIC',\n",
      "       'peeduca_ASSOCIATE DEGREE-OCCUPATIONAL/', 'peeduca_BACHELOR'S DEGREE',\n",
      "       'peeduca_DOCTORATE DEGREE', 'peeduca_HIGH SCHOOL GRAD-DIPLOMA OR',\n",
      "       'peeduca_LESS THAN 1ST GRADE', 'peeduca_MASTER'S DEGREE (EX: MA, MS,',\n",
      "       'peeduca_PROFESSIONAL SCHOOL DEG',\n",
      "       'peeduca_SOME COLLEGE BUT NO DEGREE'],\n",
      "      dtype='object')\n"
     ]
    }
   ],
   "source": [
    "print(len(work_df.columns))\n",
    "print(work_df.columns)\n",
    "\n",
    "print(len(vote_df.columns))\n",
    "print(vote_df.columns)"
   ]
  },
  {
   "cell_type": "code",
   "execution_count": 29,
   "metadata": {},
   "outputs": [],
   "source": [
    "# Alternatively: We can also map to ordinal values (optional)\n",
    "# mapper = {'HIGH SCHOOL GRAD-DIPLOMA OR':9,\n",
    "# \"BACHELOR'S DEGREE\":13,\n",
    "# 'SOME COLLEGE BUT NO DEGREE':10,\n",
    "# \"MASTER'S DEGREE (EX: MA, MS,\":14,\n",
    "# 'ASSOCIATE DEGREE-OCCUPATIONAL/':11,\n",
    "# 'ASSOCIATE DEGREE-ACADEMIC':12,\n",
    "# '11TH GRADE':7,\n",
    "# '10TH GRADE':6,\n",
    "# 'PROFESSIONAL SCHOOL DEG':15,\n",
    "# '9TH GRADE':5,\n",
    "# 'DOCTORATE DEGREE':16,\n",
    "# '7TH OR 8TH GRADE':4,\n",
    "# '12TH GRADE NO DIPLOMA':8,\n",
    "# '5TH OR 6TH GRADE':3,\n",
    "# '1ST, 2ND, 3RD OR 4TH GRADE':2,\n",
    "# 'LESS THAN 1ST GRADE':1,\n",
    "# }\n",
    "\n",
    "# work_df['peeduca'] = work_df['peeduca'].replace(mapper)"
   ]
  },
  {
   "cell_type": "code",
   "execution_count": 30,
   "metadata": {},
   "outputs": [],
   "source": [
    "X = work_df.drop('work', axis = 1)\n",
    "y = work_df['work']"
   ]
  },
  {
   "cell_type": "code",
   "execution_count": 37,
   "metadata": {},
   "outputs": [
    {
     "data": {
      "text/html": [
       "<style>#sk-container-id-4 {color: black;background-color: white;}#sk-container-id-4 pre{padding: 0;}#sk-container-id-4 div.sk-toggleable {background-color: white;}#sk-container-id-4 label.sk-toggleable__label {cursor: pointer;display: block;width: 100%;margin-bottom: 0;padding: 0.3em;box-sizing: border-box;text-align: center;}#sk-container-id-4 label.sk-toggleable__label-arrow:before {content: \"▸\";float: left;margin-right: 0.25em;color: #696969;}#sk-container-id-4 label.sk-toggleable__label-arrow:hover:before {color: black;}#sk-container-id-4 div.sk-estimator:hover label.sk-toggleable__label-arrow:before {color: black;}#sk-container-id-4 div.sk-toggleable__content {max-height: 0;max-width: 0;overflow: hidden;text-align: left;background-color: #f0f8ff;}#sk-container-id-4 div.sk-toggleable__content pre {margin: 0.2em;color: black;border-radius: 0.25em;background-color: #f0f8ff;}#sk-container-id-4 input.sk-toggleable__control:checked~div.sk-toggleable__content {max-height: 200px;max-width: 100%;overflow: auto;}#sk-container-id-4 input.sk-toggleable__control:checked~label.sk-toggleable__label-arrow:before {content: \"▾\";}#sk-container-id-4 div.sk-estimator input.sk-toggleable__control:checked~label.sk-toggleable__label {background-color: #d4ebff;}#sk-container-id-4 div.sk-label input.sk-toggleable__control:checked~label.sk-toggleable__label {background-color: #d4ebff;}#sk-container-id-4 input.sk-hidden--visually {border: 0;clip: rect(1px 1px 1px 1px);clip: rect(1px, 1px, 1px, 1px);height: 1px;margin: -1px;overflow: hidden;padding: 0;position: absolute;width: 1px;}#sk-container-id-4 div.sk-estimator {font-family: monospace;background-color: #f0f8ff;border: 1px dotted black;border-radius: 0.25em;box-sizing: border-box;margin-bottom: 0.5em;}#sk-container-id-4 div.sk-estimator:hover {background-color: #d4ebff;}#sk-container-id-4 div.sk-parallel-item::after {content: \"\";width: 100%;border-bottom: 1px solid gray;flex-grow: 1;}#sk-container-id-4 div.sk-label:hover label.sk-toggleable__label {background-color: #d4ebff;}#sk-container-id-4 div.sk-serial::before {content: \"\";position: absolute;border-left: 1px solid gray;box-sizing: border-box;top: 0;bottom: 0;left: 50%;z-index: 0;}#sk-container-id-4 div.sk-serial {display: flex;flex-direction: column;align-items: center;background-color: white;padding-right: 0.2em;padding-left: 0.2em;position: relative;}#sk-container-id-4 div.sk-item {position: relative;z-index: 1;}#sk-container-id-4 div.sk-parallel {display: flex;align-items: stretch;justify-content: center;background-color: white;position: relative;}#sk-container-id-4 div.sk-item::before, #sk-container-id-4 div.sk-parallel-item::before {content: \"\";position: absolute;border-left: 1px solid gray;box-sizing: border-box;top: 0;bottom: 0;left: 50%;z-index: -1;}#sk-container-id-4 div.sk-parallel-item {display: flex;flex-direction: column;z-index: 1;position: relative;background-color: white;}#sk-container-id-4 div.sk-parallel-item:first-child::after {align-self: flex-end;width: 50%;}#sk-container-id-4 div.sk-parallel-item:last-child::after {align-self: flex-start;width: 50%;}#sk-container-id-4 div.sk-parallel-item:only-child::after {width: 0;}#sk-container-id-4 div.sk-dashed-wrapped {border: 1px dashed gray;margin: 0 0.4em 0.5em 0.4em;box-sizing: border-box;padding-bottom: 0.4em;background-color: white;}#sk-container-id-4 div.sk-label label {font-family: monospace;font-weight: bold;display: inline-block;line-height: 1.2em;}#sk-container-id-4 div.sk-label-container {text-align: center;}#sk-container-id-4 div.sk-container {/* jupyter's `normalize.less` sets `[hidden] { display: none; }` but bootstrap.min.css set `[hidden] { display: none !important; }` so we also need the `!important` here to be able to override the default hidden behavior on the sphinx rendered scikit-learn.org. See: https://github.com/scikit-learn/scikit-learn/issues/21755 */display: inline-block !important;position: relative;}#sk-container-id-4 div.sk-text-repr-fallback {display: none;}</style><div id=\"sk-container-id-4\" class=\"sk-top-container\"><div class=\"sk-text-repr-fallback\"><pre>GridSearchCV(cv=KFold(n_splits=5, random_state=10, shuffle=True),\n",
       "             estimator=SVC(),\n",
       "             param_grid={&#x27;C&#x27;: [0.1, 1, 10],\n",
       "                         &#x27;kernel&#x27;: (&#x27;linear&#x27;, &#x27;rbf&#x27;, &#x27;sigmoid&#x27;)})</pre><b>In a Jupyter environment, please rerun this cell to show the HTML representation or trust the notebook. <br />On GitHub, the HTML representation is unable to render, please try loading this page with nbviewer.org.</b></div><div class=\"sk-container\" hidden><div class=\"sk-item sk-dashed-wrapped\"><div class=\"sk-label-container\"><div class=\"sk-label sk-toggleable\"><input class=\"sk-toggleable__control sk-hidden--visually\" id=\"sk-estimator-id-10\" type=\"checkbox\" ><label for=\"sk-estimator-id-10\" class=\"sk-toggleable__label sk-toggleable__label-arrow\">GridSearchCV</label><div class=\"sk-toggleable__content\"><pre>GridSearchCV(cv=KFold(n_splits=5, random_state=10, shuffle=True),\n",
       "             estimator=SVC(),\n",
       "             param_grid={&#x27;C&#x27;: [0.1, 1, 10],\n",
       "                         &#x27;kernel&#x27;: (&#x27;linear&#x27;, &#x27;rbf&#x27;, &#x27;sigmoid&#x27;)})</pre></div></div></div><div class=\"sk-parallel\"><div class=\"sk-parallel-item\"><div class=\"sk-item\"><div class=\"sk-label-container\"><div class=\"sk-label sk-toggleable\"><input class=\"sk-toggleable__control sk-hidden--visually\" id=\"sk-estimator-id-11\" type=\"checkbox\" ><label for=\"sk-estimator-id-11\" class=\"sk-toggleable__label sk-toggleable__label-arrow\">estimator: SVC</label><div class=\"sk-toggleable__content\"><pre>SVC()</pre></div></div></div><div class=\"sk-serial\"><div class=\"sk-item\"><div class=\"sk-estimator sk-toggleable\"><input class=\"sk-toggleable__control sk-hidden--visually\" id=\"sk-estimator-id-12\" type=\"checkbox\" ><label for=\"sk-estimator-id-12\" class=\"sk-toggleable__label sk-toggleable__label-arrow\">SVC</label><div class=\"sk-toggleable__content\"><pre>SVC()</pre></div></div></div></div></div></div></div></div></div></div>"
      ],
      "text/plain": [
       "GridSearchCV(cv=KFold(n_splits=5, random_state=10, shuffle=True),\n",
       "             estimator=SVC(),\n",
       "             param_grid={'C': [0.1, 1, 10],\n",
       "                         'kernel': ('linear', 'rbf', 'sigmoid')})"
      ]
     },
     "execution_count": 37,
     "metadata": {},
     "output_type": "execute_result"
    }
   ],
   "source": [
    "# Define the set of parameters for grid search\n",
    "parameters = {'kernel': ('linear', 'rbf', 'sigmoid'), 'C': [0.1, 1, 10]}\n",
    "\n",
    "# Import necessary libraries and set up GridSearchCV\n",
    "from sklearn.model_selection import GridSearchCV, KFold\n",
    "from sklearn.svm import SVC\n",
    "\n",
    "svc = SVC()  # Initialize the Support Vector Classifier\n",
    "kf = KFold(n_splits=5, random_state=10, shuffle=True)  # Define a k-fold cross-validation strategy\n",
    "\n",
    "# Run GridSearchCV to find the best combination of parameters\n",
    "clf = GridSearchCV(svc, parameters, cv=kf)  # Setting up GridSearchCV with the defined parameters and cross-validation strategy\n",
    "\n",
    "# Fit the GridSearchCV on the data (X) and target labels (y)\n",
    "clf.fit(X, y)  # Fitting the GridSearchCV to find the best model based on the specified parameters"
   ]
  },
  {
   "cell_type": "code",
   "execution_count": 38,
   "metadata": {},
   "outputs": [
    {
     "name": "stdout",
     "output_type": "stream",
     "text": [
      "{'C': 0.1, 'kernel': 'linear'} 0.8634000000000001 4\n",
      "{'C': 0.1, 'kernel': 'rbf'} 0.8658000000000001 1\n",
      "{'C': 0.1, 'kernel': 'sigmoid'} 0.347 7\n",
      "{'C': 1, 'kernel': 'linear'} 0.8624 5\n",
      "{'C': 1, 'kernel': 'rbf'} 0.8658000000000001 1\n",
      "{'C': 1, 'kernel': 'sigmoid'} 0.2852 8\n",
      "{'C': 10, 'kernel': 'linear'} 0.8608 6\n",
      "{'C': 10, 'kernel': 'rbf'} 0.8657999999999999 3\n",
      "{'C': 10, 'kernel': 'sigmoid'} 0.28440000000000004 9\n"
     ]
    }
   ],
   "source": [
    "# Print out the mean score for each combination of parameters\n",
    "for params, mean_score, rank in zip(clf.cv_results_[\"params\"], clf.cv_results_[\"mean_test_score\"], clf.cv_results_[\"rank_test_score\"]):\n",
    "    print(params, mean_score, rank)\n",
    "\n",
    "# The fourth set (C = 0.1, Kernel = 'rbf') gives us the best result"
   ]
  },
  {
   "cell_type": "code",
   "execution_count": 40,
   "metadata": {},
   "outputs": [
    {
     "data": {
      "text/plain": [
       "0.8658000000000001"
      ]
     },
     "execution_count": 40,
     "metadata": {},
     "output_type": "execute_result"
    }
   ],
   "source": [
    "max(clf.cv_results_['mean_test_score'])"
   ]
  },
  {
   "cell_type": "markdown",
   "metadata": {},
   "source": [
    "### Section 2.4"
   ]
  },
  {
   "cell_type": "markdown",
   "metadata": {},
   "source": [
    "In order to impute the work flexibility measure for the main analysis, you need to\n",
    "   1) Fit the model with the tuned values of C and the kernal that minimize the 5FCV error rate on the work_df data \n",
    "   2) Create X and y from vote_df (don't forget to standardize)   \n",
    "   3) Predict the imputed work flexibility measure for the vote_df data   \n",
    "   4) Calculate summary statistics for the imputed measure     \n",
    "\n",
    "This is left as an exercise for the mini-project.  Instead, we'll create a variable that's all random noise (and no signal) to illustrate what happens if our regression if our prediction performs poorly.  Note that this would be the most extreme case of a poor prediction.  "
   ]
  },
  {
   "cell_type": "code",
   "execution_count": 41,
   "metadata": {},
   "outputs": [],
   "source": [
    "# Generate a random imputed work measure instead of using our prediction.  \n",
    "# Since the flexible work schedule variable is binary, this should be 0 or 1 at random\n",
    "np.random.seed(23)\n",
    "imputed_work = np.random.randint(0,2, size=len(vote_df))\n",
    "vote_df[\"imputed_work\"] = imputed_work"
   ]
  },
  {
   "cell_type": "code",
   "execution_count": 42,
   "metadata": {},
   "outputs": [
    {
     "data": {
      "text/plain": [
       "count    5000.000000\n",
       "mean        0.494400\n",
       "std         0.500019\n",
       "min         0.000000\n",
       "25%         0.000000\n",
       "50%         0.000000\n",
       "75%         1.000000\n",
       "max         1.000000\n",
       "Name: imputed_work, dtype: float64"
      ]
     },
     "execution_count": 42,
     "metadata": {},
     "output_type": "execute_result"
    }
   ],
   "source": [
    "# Calculate summary statistics for the imputed measure\n",
    "vote_df[\"imputed_work\"].describe()"
   ]
  },
  {
   "cell_type": "markdown",
   "metadata": {},
   "source": [
    "Now let's run the regression we care about and have worked so hard to set up:  voting status on the imputed work schedule!  "
   ]
  },
  {
   "cell_type": "code",
   "execution_count": 43,
   "metadata": {
    "scrolled": true
   },
   "outputs": [
    {
     "name": "stdout",
     "output_type": "stream",
     "text": [
      "                            OLS Regression Results                            \n",
      "==============================================================================\n",
      "Dep. Variable:                   vote   R-squared:                       0.536\n",
      "Model:                            OLS   Adj. R-squared:                  0.536\n",
      "Method:                 Least Squares   F-statistic:                     1444.\n",
      "Date:                Fri, 07 Mar 2025   Prob (F-statistic):               0.00\n",
      "Time:                        12:16:26   Log-Likelihood:                -1700.8\n",
      "No. Observations:                5000   AIC:                             3412.\n",
      "Df Residuals:                    4995   BIC:                             3444.\n",
      "Df Model:                           4                                         \n",
      "Covariance Type:            nonrobust                                         \n",
      "=======================================================================================\n",
      "                          coef    std err          t      P>|t|      [0.025      0.975]\n",
      "---------------------------------------------------------------------------------------\n",
      "Intercept               1.7087      0.033     51.037      0.000       1.643       1.774\n",
      "imputed_work            0.0023      0.010      0.243      0.808      -0.017       0.021\n",
      "prtage                 -0.0326      0.001    -22.495      0.000      -0.035      -0.030\n",
      "np.power(prtage, 2)     0.0001   1.46e-05      8.345      0.000    9.32e-05       0.000\n",
      "pesex_MALE              0.0151      0.010      1.563      0.118      -0.004       0.034\n",
      "==============================================================================\n",
      "Omnibus:                       29.627   Durbin-Watson:                   1.987\n",
      "Prob(Omnibus):                  0.000   Jarque-Bera (JB):               27.280\n",
      "Skew:                          -0.143   Prob(JB):                     1.19e-06\n",
      "Kurtosis:                       2.778   Cond. No.                     2.05e+04\n",
      "==============================================================================\n",
      "\n",
      "Notes:\n",
      "[1] Standard Errors assume that the covariance matrix of the errors is correctly specified.\n",
      "[2] The condition number is large, 2.05e+04. This might indicate that there are\n",
      "strong multicollinearity or other numerical problems.\n"
     ]
    }
   ],
   "source": [
    "import statsmodels.formula.api as smf\n",
    "result = smf.ols('vote ~  imputed_work + prtage + np.power(prtage, 2) + pesex_MALE', data = vote_df).fit()\n",
    "print(result.summary())"
   ]
  },
  {
   "cell_type": "markdown",
   "metadata": {},
   "source": [
    "Note that the coefficient on imputed_work is close to zero and is not statistically significant.  This is unsurprising because the imputed work variable was generated at random.  It contains no information!  \n",
    "\n",
    "As previously mentioned, this is an extreme case of a poor prediction.  But all predictions contain some true information (signal) and some randomness (noise).  Whenever an explanatory variable is mismeasured, it will lead to measurement error.  If that measurement error is random (uncorrelated with the true dependent and independent variables, as well as the error term in the regression), it will lead to what's known as \"attenuation bias\" in the estimates.  In that case, the coefficient estimates will be attenuated (shrink) towards zero.  \n",
    "\n",
    "This is exactly what we see in our extreme case!  Less extreme cases (e.g., imperfect predictions) can still attenuate estimates towards zero, just not all the way.  \n",
    "\n",
    "So we'll want to correct for this issue.  Luckily, Lewbel (2007) provides a formula we can use in our context to correct for this attenuation bias."
   ]
  },
  {
   "cell_type": "code",
   "execution_count": 44,
   "metadata": {},
   "outputs": [],
   "source": [
    "# Before we do, let's store our estimate of the coefficient on the imputed work measure\n",
    "# We'll need it for our correction\n",
    "work_vote_relationship = result.params[1]"
   ]
  },
  {
   "cell_type": "markdown",
   "metadata": {},
   "source": [
    "### Section 2.5: Bias Correction"
   ]
  },
  {
   "cell_type": "markdown",
   "metadata": {},
   "source": [
    "The M scaling function comes from a Lewbel (2007) Econometrica paper (https://doi.org/10.1111/j.1468-0262.2006.00756.x), the paper is dense, but the intuition is that you can't just treat a predicted variable as if it's data.  There's measurement error that comes from the imprecision in the prediction.  The paper derives the effect of that measurement error in the case of \"the conditional average effect of a binary treatment or policy on some outcome where treatment may be misclassified.\"\n",
    "\n",
    "In essence, since the work variable is a mix of signal and noise, it's effect on voting is attenuated (closer to zero) than if it had been all signal and no noise.  Our regression illustrates this attenuation effect.\n",
    "\n",
    "The M function is a correction for the amount of noise that biases the estimate."
   ]
  },
  {
   "cell_type": "code",
   "execution_count": 45,
   "metadata": {},
   "outputs": [],
   "source": [
    "# First, let's define the attenuation bias correction formula\n",
    "def compute_M(a,b):\n",
    "    return 1 / (1 - 2 * b) * (1 - (1 - b) * b / a - (1 - b) * b / (1 - a))"
   ]
  },
  {
   "cell_type": "code",
   "execution_count": 46,
   "metadata": {},
   "outputs": [
    {
     "name": "stdout",
     "output_type": "stream",
     "text": [
      "0.4944\n"
     ]
    }
   ],
   "source": [
    "# Next, let's calculate the inputs to the bias correction\n",
    "# For the value of a, find the proportion of imputed work schedules that are flexible\n",
    "a = sum(imputed_work)/(imputed_work.size)\n",
    "print(a)"
   ]
  },
  {
   "cell_type": "code",
   "execution_count": 47,
   "metadata": {},
   "outputs": [
    {
     "name": "stdout",
     "output_type": "stream",
     "text": [
      "0.13419999999999987\n"
     ]
    }
   ],
   "source": [
    "# For the value of b, use the cross-validation error rate \n",
    "b = 1 - max(clf.cv_results_['mean_test_score'])\n",
    "print(b)"
   ]
  },
  {
   "cell_type": "code",
   "execution_count": 48,
   "metadata": {},
   "outputs": [
    {
     "name": "stdout",
     "output_type": "stream",
     "text": [
      "0.7315203020925888\n"
     ]
    }
   ],
   "source": [
    "M = compute_M(a,b)\n",
    "print(M)"
   ]
  },
  {
   "cell_type": "code",
   "execution_count": 49,
   "metadata": {},
   "outputs": [
    {
     "name": "stdout",
     "output_type": "stream",
     "text": [
      "0.0031940979786969116\n"
     ]
    }
   ],
   "source": [
    "work_vote_bias_correction = work_vote_relationship / M\n",
    "print(work_vote_bias_correction)"
   ]
  },
  {
   "cell_type": "markdown",
   "metadata": {},
   "source": [
    "It isn't immediately obvious because our estimated coefficient (0.0023) is so close to zero (because of the attenuation bias), but the correction moves our estimate away from zero (makes it larger).  "
   ]
  }
 ],
 "metadata": {
  "kernelspec": {
   "display_name": "Python 3 (ipykernel)",
   "language": "python",
   "name": "python3"
  },
  "language_info": {
   "codemirror_mode": {
    "name": "ipython",
    "version": 3
   },
   "file_extension": ".py",
   "mimetype": "text/x-python",
   "name": "python",
   "nbconvert_exporter": "python",
   "pygments_lexer": "ipython3",
   "version": "3.9.7"
  }
 },
 "nbformat": 4,
 "nbformat_minor": 4
}
